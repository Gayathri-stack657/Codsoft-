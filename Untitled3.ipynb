{
  "nbformat": 4,
  "nbformat_minor": 0,
  "metadata": {
    "colab": {
      "provenance": [],
      "authorship_tag": "ABX9TyMIfj/kdmPLtORUkKP4fynV",
      "include_colab_link": true
    },
    "kernelspec": {
      "name": "python3",
      "display_name": "Python 3"
    },
    "language_info": {
      "name": "python"
    }
  },
  "cells": [
    {
      "cell_type": "markdown",
      "metadata": {
        "id": "view-in-github",
        "colab_type": "text"
      },
      "source": [
        "<a href=\"https://colab.research.google.com/github/Gayathri-stack657/Codsoft-/blob/main/Untitled3.ipynb\" target=\"_parent\"><img src=\"https://colab.research.google.com/assets/colab-badge.svg\" alt=\"Open In Colab\"/></a>"
      ]
    },
    {
      "cell_type": "code",
      "execution_count": 2,
      "metadata": {
        "colab": {
          "base_uri": "https://localhost:8080/"
        },
        "id": "2wswTuUElqzd",
        "outputId": "e6602247-30b4-48e6-d33c-009593b513dd"
      },
      "outputs": [
        {
          "output_type": "stream",
          "name": "stdout",
          "text": [
            "Chatbot: Hi, I'm your assistant. Type 'bye' to quit.\n",
            "You: hi\n",
            "Chatbot: Hey there! 👋 How can I help you?\n",
            "You: how are you\n",
            "Chatbot: I'm fine, thanks! (well, I'm just some code 😅). What about you?\n",
            "You: help\n",
            "Chatbot: Sure! You can ask me about greetings, my name, or just say bye.\n",
            "You: your name\n",
            "Chatbot: I'm just a simple Python chatbot, not a real human.\n",
            "You: bye\n",
            "Chatbot: Goodbye! Take care 👋\n"
          ]
        }
      ],
      "source": [
        "# Simple Rule-Based Chatbot in Python\n",
        "# Written for learning purpose (Task 1)\n",
        "# This bot just replies with fixed answers using if-else.\n",
        "# It’s not smart like ChatGPT, but it works :)\n",
        "\n",
        "def reply(user_text):\n",
        "    # make it lowercase so matching is easy\n",
        "    text = user_text.lower()\n",
        "\n",
        "    # greetings\n",
        "    if \"hello\" in text or \"hi\" in text:\n",
        "        return \"Hey there! 👋 How can I help you?\"\n",
        "\n",
        "    # small talk\n",
        "    elif \"how are you\" in text:\n",
        "        return \"I'm fine, thanks! (well, I'm just some code 😅). What about you?\"\n",
        "\n",
        "    # asking for name\n",
        "    elif \"your name\" in text:\n",
        "        return \"I'm just a simple Python chatbot, not a real human.\"\n",
        "\n",
        "    # asking for help\n",
        "    elif \"help\" in text:\n",
        "        return \"Sure! You can ask me about greetings, my name, or just say bye.\"\n",
        "\n",
        "    # goodbye\n",
        "    elif \"bye\" in text or \"exit\" in text:\n",
        "        return \"Goodbye! Take care 👋\"\n",
        "\n",
        "    # unknown inputs\n",
        "    else:\n",
        "        return \"Hmm... I don’t understand that. Can you try saying something else?\"\n",
        "\n",
        "\n",
        "# main program loop\n",
        "print(\"Chatbot: Hi, I'm your assistant. Type 'bye' to quit.\")\n",
        "\n",
        "while True:\n",
        "    user = input(\"You: \")\n",
        "    ans = reply(user)\n",
        "    print(\"Chatbot:\", ans)\n",
        "\n",
        "    # stop if user says bye or exit\n",
        "    if \"bye\" in user.lower() or \"exit\" in user.lower():\n",
        "        break"
      ]
    }
  ]
}